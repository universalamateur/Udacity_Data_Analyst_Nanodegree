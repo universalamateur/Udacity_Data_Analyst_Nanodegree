{
 "metadata": {
  "language_info": {
   "codemirror_mode": {
    "name": "ipython",
    "version": 3
   },
   "file_extension": ".py",
   "mimetype": "text/x-python",
   "name": "python",
   "nbconvert_exporter": "python",
   "pygments_lexer": "ipython3",
   "version": 3
  },
  "orig_nbformat": 2
 },
 "nbformat": 4,
 "nbformat_minor": 2,
 "cells": [
  {
   "source": [
    "# Exploring Weather Trends - Athens, GR compared to the World - Udacity Project\n",
    "\n",
    "For the porject, I choose the city, I am currently living in, [Athens, Greece, Europe](https://osm.org/go/xxSiEUQ-) to visualize and describe the similarities and differences between the local and global temperature trends."
   ],
   "cell_type": "markdown",
   "metadata": {}
  },
  {
   "source": [
    "# The Dataset\n",
    "\n",
    "Within the project we have been given access to a database via a webinterface with the following schema:\n",
    "- three tables in the database:\n",
    "1. city_list - Fields: city \\ country\n",
    "2. city_data - Fields: year \\ city \\ country \\ avg_temp (ºC)\n",
    "3. global_data - This contains the average global temperatures by year (ºC)."
   ],
   "cell_type": "markdown",
   "metadata": {}
  },
  {
   "source": [
    "# The Queries\n",
    "\n",
    "1. For explaration I entered the SQL query:\n",
    "```\n",
    "SELECT * FROM city_list WHERE country='Greece'\n",
    "```\n",
    "which showed me that the only dataset for the country Greece came from Athens, Greece, my chosen target.\n",
    "\n",
    "2. As next step I issued the query to the city_data table:\n",
    "```\n",
    "SELECT * FROM city_data WHERE city='Athens'\n",
    "```\n",
    "This resulted in 261 results, which I downloaded as CSV file for later use.\n",
    "\n",
    "3. As last step I queried the global_data table with the query:\n",
    "```\n",
    "SELECT * FROM global_data\n",
    "```\n",
    "with 266 results, also downloaded as CSV file.\n",
    "\n",
    "4. The different result sets show us that we have to view the datasets before we work with them.\n",
    "They will be uploaded to github next to this notebook to work with them.  \n",
    "4.1. [city_data_Athens]  \n",
    "4.2. [global_data]"
   ],
   "cell_type": "markdown",
   "metadata": {}
  },
  {
   "cell_type": "code",
   "execution_count": null,
   "metadata": {},
   "outputs": [],
   "source": []
  }
 ]
}